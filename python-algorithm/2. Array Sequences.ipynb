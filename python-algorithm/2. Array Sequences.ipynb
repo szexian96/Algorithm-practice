{
 "cells": [
  {
   "cell_type": "markdown",
   "metadata": {},
   "source": [
    "# Array Sequences\n",
    "- Introduction to Arrays\n",
    "- Low Level Arrays\n",
    "- Dynamic Arrays and Amortization\n",
    "- Array based \" Mini Project\"\n",
    "- Several Array Interview Problems\n"
   ]
  },
  {
   "cell_type": "markdown",
   "metadata": {},
   "source": [
    "## Introduction to Array\n",
    "- Term \"array Sequence\" is general\n",
    "- Python has 3 main sequence classes:\n",
    "  - List: [1,2,3]\n",
    "  - Tuple: (1,2,3)\n",
    "  - String: '123'\n",
    "- All support indexing (t[0]=1)"
   ]
  },
  {
   "cell_type": "markdown",
   "metadata": {},
   "source": [
    "## 1. Low Level Array\n",
    "- Focus on computer memory\n",
    "- Memory Address\n",
    "- Unit of memory (bits and bytes)\n",
    "- Memory retrieval"
   ]
  },
  {
   "cell_type": "markdown",
   "metadata": {},
   "source": [
    "### Low-level computer architecture\n",
    "- Memory : bits\n",
    "- Bytes : 8 bits\n",
    "- Computer -> memory address\n",
    "- Byte associated with unique address\n",
    "- Byte #2144 Byte #2147 (something like this)"
   ]
  },
  {
   "cell_type": "markdown",
   "metadata": {},
   "source": [
    "### Arrays\n",
    "- Any byte of main memory can efficiently accessed\n",
    "- Computer main memory = RAM\n",
    "- $O(1)$ time (memory stored or retrived)\n",
    "- Programming language track association between indentifier and memory address\n",
    "- related var. stored in a portion of memory (array)\n",
    "- Highler level abstraction so we call it array not that memory place"
   ]
  },
  {
   "cell_type": "markdown",
   "metadata": {},
   "source": [
    "### Referential Arrays - Example\n",
    "1. 100 student names with ID numbers.\n",
    "2. Each cell = same number of bytes.\n",
    "3. How to avoid having to have a series of names.\n",
    "4. Use an array of object `References`.\n",
    "5. Each element is a `reference` to the object."
   ]
  },
  {
   "cell_type": "markdown",
   "metadata": {},
   "source": [
    "### Referential Arrays ( reference only not copy )\n",
    "- A single list instance may include multiple references to the same object as elements of the list.\n",
    "- Single object can be an element of 2\n",
    "- Slice of list -> new list instance\n",
    "- New list -> references the same elements are in the original list."
   ]
  },
  {
   "cell_type": "code",
   "execution_count": 22,
   "metadata": {},
   "outputs": [
    {
     "name": "stdout",
     "output_type": "stream",
     "text": [
      "[7, 11, 13]\n"
     ]
    }
   ],
   "source": [
    "primes = [2,3,5,7,11,13,17,19] #slice from here\n",
    "temp = primes[3:6] #reference from index 3 to 6\n",
    "print(temp)"
   ]
  },
  {
   "cell_type": "markdown",
   "metadata": {},
   "source": [
    "### Copying Arrays\n",
    "- `backup = list(primes)`\n",
    "- produce a new list that is a `shallow copy` , which is doing reference\n",
    "- content of the list were of a mutable type , a `deep copy` => copy module"
   ]
  },
  {
   "cell_type": "code",
   "execution_count": 23,
   "metadata": {},
   "outputs": [
    {
     "name": "stdout",
     "output_type": "stream",
     "text": [
      "[0, 0, 0, 0, 0, 0, 0, 0]\n",
      "[0, 0, 1, 0, 0, 0, 0, 0]\n",
      "[2, 3, 5, 7, 11, 13, 17, 19, 23, 29, 31]\n"
     ]
    }
   ],
   "source": [
    "counters = [0] *8\n",
    "print(counters)\n",
    "# All eight cells reference the same object!\n",
    "\n",
    "counters[2] += 1 #Does not technically change the value of exisiting integer instance.\n",
    "#It computes a new integer\n",
    "print(counters)\n",
    "\n",
    "extras = [23,29,31]\n",
    "primes.extend(extras)\n",
    "print(primes) #just extends the array with extra array as a reference"
   ]
  },
  {
   "cell_type": "markdown",
   "metadata": {},
   "source": [
    "## 2. Dynamic Array\n",
    "- Dont need to specify how large an array is beforehead.\n",
    "- Python is Dynamic Arrays\n",
    "- List instance often has greater capacity than current length.\n",
    "- element keep getting appended, extra space gonna run out."
   ]
  },
  {
   "cell_type": "code",
   "execution_count": 24,
   "metadata": {},
   "outputs": [
    {
     "name": "stdout",
     "output_type": "stream",
     "text": [
      "Length:   0; Size in bytes:   56\n",
      "Length:   1; Size in bytes:   88\n",
      "Length:   2; Size in bytes:   88\n",
      "Length:   3; Size in bytes:   88\n",
      "Length:   4; Size in bytes:   88\n",
      "Length:   5; Size in bytes:  120\n",
      "Length:   6; Size in bytes:  120\n",
      "Length:   7; Size in bytes:  120\n",
      "Length:   8; Size in bytes:  120\n",
      "Length:   9; Size in bytes:  184\n"
     ]
    }
   ],
   "source": [
    "import sys\n",
    "\n",
    "# Set n\n",
    "n = 10\n",
    "\n",
    "data = []\n",
    "\n",
    "for i in range(n):\n",
    "\n",
    "    # NUmber of elements\n",
    "    a = len(data)\n",
    "\n",
    "    # Actual Size in bytes\n",
    "    b = sys.getsizeof(data)\n",
    "    print (f'Length: {a:3d}; Size in bytes: {b:4d}') #d is decimal number 3d = 3桁decimal number\n",
    "\n",
    "    #increase length by one\n",
    "    data.append(n)\n",
    "\n",
    "    # Happen in chunks for the size in bytes"
   ]
  },
  {
   "cell_type": "markdown",
   "metadata": {},
   "source": [
    "### Dynamic Array Implementation\n",
    "- The key is to provide means to grow the `array A` that stores the elements of a list.\n",
    "- Array capicity is fixed.\n",
    "\n",
    "1. Allocate a new `array B` with larger capacity.\n",
    "2. Set `B[i] = A[i]` for `i=0,....,n-1` where `n` denotes current number of items.\n",
    "3. Set `A = B` that is, we henceforth use `B` as the array supporting the list.\n",
    "4. Insert new element in the new array.\n",
    "- 把 array a 放进比较长的 array b，\n",
    "- 然后让array b reference array a\n",
    "- change array b to array a (get a new chunk of memory)"
   ]
  },
  {
   "cell_type": "markdown",
   "metadata": {},
   "source": [
    "## 3.Dynamic Array Exercise"
   ]
  }
 ],
 "metadata": {
  "interpreter": {
   "hash": "6ce28cce4c687d7875c9afac69d9b713b9ce45b7bb955b8ce271f9aaed01d016"
  },
  "kernelspec": {
   "display_name": "Python 3.9.12 64-bit (windows store)",
   "language": "python",
   "name": "python3"
  },
  "language_info": {
   "codemirror_mode": {
    "name": "ipython",
    "version": 3
   },
   "file_extension": ".py",
   "mimetype": "text/x-python",
   "name": "python",
   "nbconvert_exporter": "python",
   "pygments_lexer": "ipython3",
   "version": "3.9.12"
  },
  "orig_nbformat": 4
 },
 "nbformat": 4,
 "nbformat_minor": 2
}
